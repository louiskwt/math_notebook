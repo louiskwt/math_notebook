{
 "cells": [
  {
   "cell_type": "code",
   "execution_count": 17,
   "metadata": {},
   "outputs": [],
   "source": [
    "from itertools import permutations, product, combinations"
   ]
  },
  {
   "cell_type": "code",
   "execution_count": 3,
   "metadata": {},
   "outputs": [
    {
     "name": "stdout",
     "output_type": "stream",
     "text": [
      "(1, 2, 3)\n",
      "(1, 3, 2)\n",
      "(2, 1, 3)\n",
      "(2, 3, 1)\n",
      "(3, 1, 2)\n",
      "(3, 2, 1)\n"
     ]
    }
   ],
   "source": [
    "# all combinations of 1, 2, 3 with no repeat\n",
    "perm = permutations([1, 2, 3])\n",
    "\n",
    "for i in list(perm):\n",
    "    print(i)\n"
   ]
  },
  {
   "cell_type": "code",
   "execution_count": 5,
   "metadata": {},
   "outputs": [
    {
     "name": "stdout",
     "output_type": "stream",
     "text": [
      "['Alice', 'Bob', 'Charlie', 1, 2, 3, 4]\n"
     ]
    }
   ],
   "source": [
    "# Rule of Sum\n",
    "print(['Alice', 'Bob', 'Charlie'] + [1, 2, 3, 4])"
   ]
  },
  {
   "cell_type": "code",
   "execution_count": 9,
   "metadata": {},
   "outputs": [
    {
     "name": "stdout",
     "output_type": "stream",
     "text": [
      "ax\n",
      "ay\n",
      "bx\n",
      "by\n",
      "cx\n",
      "cy\n"
     ]
    }
   ],
   "source": [
    "# Rules of product\n",
    "for p in product(['a', 'b', 'c'], ['x', 'y']):\n",
    "    print(\"\".join(p))"
   ]
  },
  {
   "cell_type": "code",
   "execution_count": 13,
   "metadata": {},
   "outputs": [
    {
     "name": "stdout",
     "output_type": "stream",
     "text": [
      "aa\n",
      "ab\n",
      "ba\n",
      "bb\n"
     ]
    }
   ],
   "source": [
    "# n ^ k  (with repetition)\n",
    "for p in product(\"ab\", repeat=2):\n",
    "    print(\"\".join(p))"
   ]
  },
  {
   "cell_type": "code",
   "execution_count": 15,
   "metadata": {},
   "outputs": [
    {
     "name": "stdout",
     "output_type": "stream",
     "text": [
      "ab\n",
      "ac\n",
      "ad\n",
      "ba\n",
      "bc\n",
      "bd\n",
      "ca\n",
      "cb\n",
      "cd\n",
      "da\n",
      "db\n",
      "dc\n"
     ]
    }
   ],
   "source": [
    "# n! / (n-r)!\n",
    "for p in permutations(\"abcd\", 2):\n",
    "    print(\"\".join(p))"
   ]
  },
  {
   "cell_type": "code",
   "execution_count": 19,
   "metadata": {},
   "outputs": [
    {
     "name": "stdout",
     "output_type": "stream",
     "text": [
      "ab\n",
      "ac\n",
      "ad\n",
      "ae\n",
      "bc\n",
      "bd\n",
      "be\n",
      "cd\n",
      "ce\n",
      "de\n"
     ]
    }
   ],
   "source": [
    "# n(n-1) / 2\n",
    "\n",
    "for c in combinations(\"abcde\", 2):\n",
    "    print(\"\".join(c))"
   ]
  },
  {
   "cell_type": "code",
   "execution_count": 23,
   "metadata": {},
   "outputs": [
    {
     "name": "stdout",
     "output_type": "stream",
     "text": [
      "6\n"
     ]
    }
   ],
   "source": [
    "# recursion count\n",
    "def T(n):\n",
    "    if n <= 1:\n",
    "        return 0\n",
    "    return (n-1) + T(n-1)\n",
    "\n",
    "print(T(4))"
   ]
  },
  {
   "cell_type": "code",
   "execution_count": 28,
   "metadata": {},
   "outputs": [
    {
     "name": "stdout",
     "output_type": "stream",
     "text": [
      "abc\n",
      "abd\n",
      "abe\n",
      "acd\n",
      "ace\n",
      "ade\n",
      "bcd\n",
      "bce\n",
      "bde\n",
      "cde\n"
     ]
    }
   ],
   "source": [
    "# combinaitons (n choose k)\n",
    "for c in combinations(\"abcde\", 3):\n",
    "    print(\"\".join(c))\n"
   ]
  }
 ],
 "metadata": {
  "kernelspec": {
   "display_name": "Python 3.10.2 64-bit ('3.10.2')",
   "language": "python",
   "name": "python3"
  },
  "language_info": {
   "codemirror_mode": {
    "name": "ipython",
    "version": 3
   },
   "file_extension": ".py",
   "mimetype": "text/x-python",
   "name": "python",
   "nbconvert_exporter": "python",
   "pygments_lexer": "ipython3",
   "version": "3.10.2"
  },
  "orig_nbformat": 4,
  "vscode": {
   "interpreter": {
    "hash": "fd7745df9fd0cab4a397b240770d872a64bd9cc2031769ac7899b0f9f410c470"
   }
  }
 },
 "nbformat": 4,
 "nbformat_minor": 2
}
