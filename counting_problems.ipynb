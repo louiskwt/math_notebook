{
 "cells": [
  {
   "cell_type": "code",
   "execution_count": 3,
   "metadata": {},
   "outputs": [
    {
     "name": "stdout",
     "output_type": "stream",
     "text": [
      "3439\n",
      "3439\n"
     ]
    }
   ],
   "source": [
    "# Count the number of non-negative int with at most 4 digits and at least one of which is 7\n",
    "from itertools import product\n",
    "\n",
    "count = 0\n",
    "for d in product(range(10), repeat=4):\n",
    "    if 7 in d:\n",
    "        count += 1\n",
    "\n",
    "print(count)\n",
    "\n",
    "# pure math \n",
    "print(10**4 - 9**4)"
   ]
  },
  {
   "cell_type": "code",
   "execution_count": 6,
   "metadata": {},
   "outputs": [
    {
     "name": "stdout",
     "output_type": "stream",
     "text": [
      "210\n"
     ]
    }
   ],
   "source": [
    "# 4-digit numbers with increasing digits\n",
    "count = 0\n",
    "for d in product(range(10), repeat=4):\n",
    "    if d[0] < d[1] and d[1] < d[2] and d[2] < d[3]:\n",
    "        count += 1\n",
    "print(count)"
   ]
  },
  {
   "cell_type": "code",
   "execution_count": 7,
   "metadata": {},
   "outputs": [
    {
     "name": "stdout",
     "output_type": "stream",
     "text": [
      "(0, 0, 0, 0)\n",
      "(0, 0, 0, 1)\n",
      "(0, 0, 1, 0)\n",
      "(0, 0, 1, 1)\n",
      "(0, 1, 0, 0)\n",
      "(0, 1, 0, 1)\n",
      "(0, 1, 1, 0)\n",
      "(0, 1, 1, 1)\n",
      "(1, 0, 0, 0)\n",
      "(1, 0, 0, 1)\n",
      "(1, 0, 1, 0)\n",
      "(1, 0, 1, 1)\n",
      "(1, 1, 0, 0)\n",
      "(1, 1, 0, 1)\n",
      "(1, 1, 1, 0)\n",
      "(1, 1, 1, 1)\n"
     ]
    }
   ],
   "source": [
    "# exploring itertools\n",
    "for d in product(range(2), repeat=4):\n",
    "    print(d)"
   ]
  }
 ],
 "metadata": {
  "kernelspec": {
   "display_name": "Python 3",
   "language": "python",
   "name": "python3"
  },
  "language_info": {
   "codemirror_mode": {
    "name": "ipython",
    "version": 3
   },
   "file_extension": ".py",
   "mimetype": "text/x-python",
   "name": "python",
   "nbconvert_exporter": "python",
   "pygments_lexer": "ipython3",
   "version": "3.10.2"
  },
  "orig_nbformat": 4,
  "vscode": {
   "interpreter": {
    "hash": "fd7745df9fd0cab4a397b240770d872a64bd9cc2031769ac7899b0f9f410c470"
   }
  }
 },
 "nbformat": 4,
 "nbformat_minor": 2
}
