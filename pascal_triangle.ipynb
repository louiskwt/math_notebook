{
 "cells": [
  {
   "cell_type": "code",
   "execution_count": 9,
   "metadata": {},
   "outputs": [
    {
     "name": "stdout",
     "output_type": "stream",
     "text": [
      "35\n"
     ]
    }
   ],
   "source": [
    "C = dict() # C([n, k]) is equal to n choose k\n",
    "\n",
    "# Pascal's Triangle\n",
    "\n",
    "for n in range(8):\n",
    "    # Outmost layer of the triangle\n",
    "    C[n, 0] = 1\n",
    "    C[n, n] = 1\n",
    "\n",
    "    for k in range(1, n):\n",
    "        C[n, k] = C[n - 1, k - 1] + C[n -1, k]\n",
    "\n",
    "print(C[7, 4]) "
   ]
  },
  {
   "cell_type": "code",
   "execution_count": 10,
   "metadata": {},
   "outputs": [
    {
     "name": "stdout",
     "output_type": "stream",
     "text": [
      "       1 \n",
      "      1 1 \n",
      "     1 2 1 \n",
      "    1 3 3 1 \n",
      "   1 4 6 4 1 \n",
      "  1 5 10 10 5 1 \n"
     ]
    }
   ],
   "source": [
    "# printing pascal triangle\n",
    "from math import factorial\n",
    "\n",
    "n = 6\n",
    "for i in range(n):\n",
    "    for j in range(n-i + 1):\n",
    "        # left spacing\n",
    "        print(end=\" \")\n",
    "    for j in range(i+1):\n",
    "        print(factorial(i)//(factorial(j) * factorial(i-j)), end=\" \")\n",
    "    \n",
    "    # new line\n",
    "    print()"
   ]
  }
 ],
 "metadata": {
  "kernelspec": {
   "display_name": "Python 3.10.2 64-bit ('3.10.2')",
   "language": "python",
   "name": "python3"
  },
  "language_info": {
   "codemirror_mode": {
    "name": "ipython",
    "version": 3
   },
   "file_extension": ".py",
   "mimetype": "text/x-python",
   "name": "python",
   "nbconvert_exporter": "python",
   "pygments_lexer": "ipython3",
   "version": "3.10.2"
  },
  "orig_nbformat": 4,
  "vscode": {
   "interpreter": {
    "hash": "fd7745df9fd0cab4a397b240770d872a64bd9cc2031769ac7899b0f9f410c470"
   }
  }
 },
 "nbformat": 4,
 "nbformat_minor": 2
}
