{
 "cells": [
  {
   "cell_type": "code",
   "execution_count": 3,
   "metadata": {},
   "outputs": [],
   "source": [
    "from itertools import product, permutations, combinations, combinations_with_replacement"
   ]
  },
  {
   "cell_type": "code",
   "execution_count": 18,
   "metadata": {},
   "outputs": [
    {
     "name": "stdout",
     "output_type": "stream",
     "text": [
      "tttt tttb tttl ttbt ttbb ttbl ttlt ttlb ttll tbtt tbtb tbtl tbbt tbbb tbbl tblt tblb tbll tltt tltb tltl tlbt tlbb tlbl tllt tllb tlll bttt bttb bttl btbt btbb btbl btlt btlb btll bbtt bbtb bbtl bbbt bbbb bbbl bblt bblb bbll bltt bltb bltl blbt blbb blbl bllt bllb blll lttt lttb lttl ltbt ltbb ltbl ltlt ltlb ltll lbtt lbtb lbtl lbbt lbbb lbbl lblt lblb lbll lltt lltb lltl llbt llbb llbl lllt lllb llll 81\n"
     ]
    }
   ],
   "source": [
    "# Tuples --> ordered selections with repititions. aks words\n",
    "# the number of tuples is n^k  \n",
    "count = 0\n",
    "for t in product('tbl', repeat=4):\n",
    "    count += 1\n",
    "    print(*t, sep=\"\", end=\" \")\n",
    "\n",
    "print(count)"
   ]
  },
  {
   "cell_type": "code",
   "execution_count": 9,
   "metadata": {},
   "outputs": [
    {
     "name": "stdout",
     "output_type": "stream",
     "text": [
      "ab ac ba bc ca cb "
     ]
    }
   ],
   "source": [
    "# Permutations are ordered selections without repetitions\n",
    "# n! / (n-k)!\n",
    "for t in permutations('abc', 2):\n",
    "    print(*t, sep='', end=' ')"
   ]
  },
  {
   "cell_type": "code",
   "execution_count": 12,
   "metadata": {},
   "outputs": [
    {
     "name": "stdout",
     "output_type": "stream",
     "text": [
      "ab ac bc "
     ]
    }
   ],
   "source": [
    "# Combinations are unordered selections without repitions\n",
    "# Also known as set\n",
    "# n! / k!(n-k)!\n",
    "for t in combinations('abc', 2):\n",
    "    print(*t, sep=\"\", end=\" \")"
   ]
  },
  {
   "cell_type": "code",
   "execution_count": 20,
   "metadata": {},
   "outputs": [
    {
     "name": "stdout",
     "output_type": "stream",
     "text": [
      "TTTT TTTB TTTL TTBB TTBL TTLL TBBB TBBL TBLL TLLL BBBB BBBL BBLL BLLL LLLL "
     ]
    }
   ],
   "source": [
    "# Combinations with reptitions are unordered selections with repitions\n",
    "# also known as multiset\n",
    "for t in combinations_with_replacement('TBL', 4):\n",
    "    print(*t, sep=\"\", end=\" \")"
   ]
  },
  {
   "cell_type": "code",
   "execution_count": 1,
   "metadata": {},
   "outputs": [
    {
     "ename": "NameError",
     "evalue": "name 'combinations' is not defined",
     "output_type": "error",
     "traceback": [
      "\u001b[0;31m---------------------------------------------------------------------------\u001b[0m",
      "\u001b[0;31mNameError\u001b[0m                                 Traceback (most recent call last)",
      "Cell \u001b[0;32mIn[1], line 2\u001b[0m\n\u001b[1;32m      1\u001b[0m \u001b[39m# Salad problem --> Counting the bar\u001b[39;00m\n\u001b[0;32m----> 2\u001b[0m \u001b[39mfor\u001b[39;00m bars_indices \u001b[39min\u001b[39;00m combinations(\u001b[39mrange\u001b[39m(\u001b[39m6\u001b[39m), \u001b[39m2\u001b[39m):\n\u001b[1;32m      3\u001b[0m     sequence \u001b[39m=\u001b[39m [\u001b[39m'\u001b[39m\u001b[39mX\u001b[39m\u001b[39m'\u001b[39m] \u001b[39m*\u001b[39m \u001b[39m6\u001b[39m\n\u001b[1;32m      4\u001b[0m     \u001b[39mfor\u001b[39;00m i \u001b[39min\u001b[39;00m bars_indices:\n",
      "\u001b[0;31mNameError\u001b[0m: name 'combinations' is not defined"
     ]
    }
   ],
   "source": [
    "# Salad problem --> Counting the bar\n",
    "for bars_indices in combinations(range(6), 2):\n",
    "    sequence = ['X'] * 6\n",
    "    for i in bars_indices:\n",
    "        sequence[i] = \"|\"\n",
    "    print(*sequence, ' ', *bars_indices)"
   ]
  },
  {
   "cell_type": "code",
   "execution_count": 2,
   "metadata": {},
   "outputs": [
    {
     "ename": "NameError",
     "evalue": "name 'combinations_with_replacement' is not defined",
     "output_type": "error",
     "traceback": [
      "\u001b[0;31m---------------------------------------------------------------------------\u001b[0m",
      "\u001b[0;31mNameError\u001b[0m                                 Traceback (most recent call last)",
      "Cell \u001b[0;32mIn[2], line 3\u001b[0m\n\u001b[1;32m      1\u001b[0m \u001b[39m# Counting combinations\u001b[39;00m\n\u001b[1;32m      2\u001b[0m \u001b[39m# formula: k + (n-1) choose (n-1) where n = total options, and k = items\u001b[39;00m\n\u001b[0;32m----> 3\u001b[0m \u001b[39mprint\u001b[39m(\u001b[39mlen\u001b[39m(\u001b[39mlist\u001b[39m(combinations_with_replacement(\u001b[39m\"\u001b[39m\u001b[39mTBLE\u001b[39m\u001b[39m\"\u001b[39m, \u001b[39m7\u001b[39m))))\n",
      "\u001b[0;31mNameError\u001b[0m: name 'combinations_with_replacement' is not defined"
     ]
    }
   ],
   "source": [
    "# Counting combinations\n",
    "# formula: k + (n-1) choose (n-1) where n = total options, and k = items\n",
    "print(len(list(combinations_with_replacement(\"TBLE\", 7))))"
   ]
  },
  {
   "cell_type": "code",
   "execution_count": 11,
   "metadata": {},
   "outputs": [
    {
     "name": "stdout",
     "output_type": "stream",
     "text": [
      "0\n"
     ]
    }
   ],
   "source": [
    "count = 0\n",
    "for a in permutations(\"abcdefghijklmno\", 7):\n",
    "    count += 1\n",
    "\n",
    "print(count)"
   ]
  },
  {
   "cell_type": "code",
   "execution_count": 12,
   "metadata": {},
   "outputs": [
    {
     "name": "stdout",
     "output_type": "stream",
     "text": [
      "6435\n"
     ]
    }
   ],
   "source": [
    "count = 0\n",
    "for t in combinations('abcdefghijklmno', 7):\n",
    "    count += 1\n",
    "\n",
    "print(count)\n"
   ]
  }
 ],
 "metadata": {
  "kernelspec": {
   "display_name": "Python 3",
   "language": "python",
   "name": "python3"
  },
  "language_info": {
   "codemirror_mode": {
    "name": "ipython",
    "version": 3
   },
   "file_extension": ".py",
   "mimetype": "text/x-python",
   "name": "python",
   "nbconvert_exporter": "python",
   "pygments_lexer": "ipython3",
   "version": "3.10.2"
  },
  "orig_nbformat": 4,
  "vscode": {
   "interpreter": {
    "hash": "fd7745df9fd0cab4a397b240770d872a64bd9cc2031769ac7899b0f9f410c470"
   }
  }
 },
 "nbformat": 4,
 "nbformat_minor": 2
}
