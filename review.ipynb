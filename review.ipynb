{
 "cells": [
  {
   "cell_type": "code",
   "execution_count": 14,
   "metadata": {},
   "outputs": [],
   "source": [
    "from itertools import product, permutations, combinations, combinations_with_replacement"
   ]
  },
  {
   "cell_type": "code",
   "execution_count": 18,
   "metadata": {},
   "outputs": [
    {
     "name": "stdout",
     "output_type": "stream",
     "text": [
      "tttt tttb tttl ttbt ttbb ttbl ttlt ttlb ttll tbtt tbtb tbtl tbbt tbbb tbbl tblt tblb tbll tltt tltb tltl tlbt tlbb tlbl tllt tllb tlll bttt bttb bttl btbt btbb btbl btlt btlb btll bbtt bbtb bbtl bbbt bbbb bbbl bblt bblb bbll bltt bltb bltl blbt blbb blbl bllt bllb blll lttt lttb lttl ltbt ltbb ltbl ltlt ltlb ltll lbtt lbtb lbtl lbbt lbbb lbbl lblt lblb lbll lltt lltb lltl llbt llbb llbl lllt lllb llll 81\n"
     ]
    }
   ],
   "source": [
    "# Tuples --> ordered selections with repititions. aks words\n",
    "# the number of tuples is n^k  \n",
    "count = 0\n",
    "for t in product('tbl', repeat=4):\n",
    "    count += 1\n",
    "    print(*t, sep=\"\", end=\" \")\n",
    "\n",
    "print(count)"
   ]
  },
  {
   "cell_type": "code",
   "execution_count": 9,
   "metadata": {},
   "outputs": [
    {
     "name": "stdout",
     "output_type": "stream",
     "text": [
      "ab ac ba bc ca cb "
     ]
    }
   ],
   "source": [
    "# Permutations are ordered selections without repetitions\n",
    "# n! / (n-k)!\n",
    "for t in permutations('abc', 2):\n",
    "    print(*t, sep='', end=' ')"
   ]
  },
  {
   "cell_type": "code",
   "execution_count": 12,
   "metadata": {},
   "outputs": [
    {
     "name": "stdout",
     "output_type": "stream",
     "text": [
      "ab ac bc "
     ]
    }
   ],
   "source": [
    "# Combinations are unordered selections without repitions\n",
    "# Also known as set\n",
    "# n! / k!(n-k)!\n",
    "for t in combinations('abc', 2):\n",
    "    print(*t, sep=\"\", end=\" \")"
   ]
  },
  {
   "cell_type": "code",
   "execution_count": 20,
   "metadata": {},
   "outputs": [
    {
     "name": "stdout",
     "output_type": "stream",
     "text": [
      "TTTT TTTB TTTL TTBB TTBL TTLL TBBB TBBL TBLL TLLL BBBB BBBL BBLL BLLL LLLL "
     ]
    }
   ],
   "source": [
    "# Combinations with reptitions are unordered selections with repitions\n",
    "# also known as multiset\n",
    "for t in combinations_with_replacement('TBL', 4):\n",
    "    print(*t, sep=\"\", end=\" \")"
   ]
  },
  {
   "cell_type": "code",
   "execution_count": 22,
   "metadata": {},
   "outputs": [
    {
     "name": "stdout",
     "output_type": "stream",
     "text": [
      "| | X X X X   0 1\n",
      "| X | X X X   0 2\n",
      "| X X | X X   0 3\n",
      "| X X X | X   0 4\n",
      "| X X X X |   0 5\n",
      "X | | X X X   1 2\n",
      "X | X | X X   1 3\n",
      "X | X X | X   1 4\n",
      "X | X X X |   1 5\n",
      "X X | | X X   2 3\n",
      "X X | X | X   2 4\n",
      "X X | X X |   2 5\n",
      "X X X | | X   3 4\n",
      "X X X | X |   3 5\n",
      "X X X X | |   4 5\n"
     ]
    }
   ],
   "source": [
    "# Salad problem --> Counting the bar\n",
    "for bars_indices in combinations(range(6), 2):\n",
    "    sequence = ['X'] * 6\n",
    "    for i in bars_indices:\n",
    "        sequence[i] = \"|\"\n",
    "    print(*sequence, ' ', *bars_indices)"
   ]
  },
  {
   "cell_type": "code",
   "execution_count": 23,
   "metadata": {},
   "outputs": [
    {
     "name": "stdout",
     "output_type": "stream",
     "text": [
      "120\n"
     ]
    }
   ],
   "source": [
    "# Counting combinations\n",
    "# formula: k + (n-1) choose (n-1) where n = total options, and k = items\n",
    "print(len(list(combinations_with_replacement(\"TBLE\", 7))))"
   ]
  }
 ],
 "metadata": {
  "kernelspec": {
   "display_name": "Python 3",
   "language": "python",
   "name": "python3"
  },
  "language_info": {
   "codemirror_mode": {
    "name": "ipython",
    "version": 3
   },
   "file_extension": ".py",
   "mimetype": "text/x-python",
   "name": "python",
   "nbconvert_exporter": "python",
   "pygments_lexer": "ipython3",
   "version": "3.10.2"
  },
  "orig_nbformat": 4,
  "vscode": {
   "interpreter": {
    "hash": "fd7745df9fd0cab4a397b240770d872a64bd9cc2031769ac7899b0f9f410c470"
   }
  }
 },
 "nbformat": 4,
 "nbformat_minor": 2
}
